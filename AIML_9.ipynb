{
  "nbformat": 4,
  "nbformat_minor": 0,
  "metadata": {
    "colab": {
      "provenance": []
    },
    "kernelspec": {
      "name": "python3",
      "display_name": "Python 3"
    },
    "language_info": {
      "name": "python"
    }
  },
  "cells": [
    {
      "cell_type": "code",
      "execution_count": 1,
      "metadata": {
        "id": "-28Sq38TmWq0",
        "colab": {
          "base_uri": "https://localhost:8080/"
        },
        "outputId": "fe5e8c7e-14c4-4574-a76a-24bbf207d68a"
      },
      "outputs": [
        {
          "output_type": "stream",
          "name": "stdout",
          "text": [
            "     Age  Gender  Protein1  Protein2  Protein3  Protein4 Tumour_Stage  \\\n",
            "0     42  FEMALE  0.952560   2.15000  0.007972 -0.048340           II   \n",
            "1     54  FEMALE  0.000000   1.38020 -0.498030 -0.507320           II   \n",
            "2     63  FEMALE -0.523030   1.76400 -0.370190  0.010815           II   \n",
            "3     78  FEMALE -0.876180   0.12943 -0.370380  0.132190            I   \n",
            "4     42  FEMALE  0.226110   1.74910 -0.543970 -0.390210           II   \n",
            "..   ...     ...       ...       ...       ...       ...          ...   \n",
            "329   59  FEMALE  0.024598   1.40050  0.024751  0.280320           II   \n",
            "330   41  FEMALE  0.100120  -0.46547  0.472370 -0.523870            I   \n",
            "331   54  FEMALE  0.753820   1.64250 -0.332850  0.857860           II   \n",
            "332   74  FEMALE  0.972510   1.42680 -0.366570 -0.107820           II   \n",
            "333   66  FEMALE  0.286380   1.39980  0.318830  0.836050           II   \n",
            "\n",
            "                          Histology ER status PR status HER2 status  \\\n",
            "0     Infiltrating Ductal Carcinoma  Positive  Positive    Negative   \n",
            "1     Infiltrating Ductal Carcinoma  Positive  Positive    Negative   \n",
            "2     Infiltrating Ductal Carcinoma  Positive  Positive    Negative   \n",
            "3     Infiltrating Ductal Carcinoma  Positive  Positive    Negative   \n",
            "4     Infiltrating Ductal Carcinoma  Positive  Positive    Positive   \n",
            "..                              ...       ...       ...         ...   \n",
            "329   Infiltrating Ductal Carcinoma  Positive  Positive    Positive   \n",
            "330   Infiltrating Ductal Carcinoma  Positive  Positive    Positive   \n",
            "331   Infiltrating Ductal Carcinoma  Positive  Positive    Negative   \n",
            "332  Infiltrating Lobular Carcinoma  Positive  Positive    Negative   \n",
            "333   Infiltrating Ductal Carcinoma  Positive  Positive    Negative   \n",
            "\n",
            "                    Surgery_type Date_of_Surgery Date_of_Last_Visit  \\\n",
            "0                          Other       20-May-18          26-Aug-18   \n",
            "1                          Other       26-Apr-18          25-Jan-19   \n",
            "2                     Lumpectomy       24-Aug-18          08-Apr-20   \n",
            "3                          Other       16-Nov-18          28-Jul-20   \n",
            "4                     Lumpectomy       12-Dec-18          05-Jan-19   \n",
            "..                           ...             ...                ...   \n",
            "329                   Lumpectomy       15-Jan-19          27-Mar-20   \n",
            "330  Modified Radical Mastectomy       25-Jul-18          23-Apr-19   \n",
            "331            Simple Mastectomy       26-Mar-19          11-Oct-19   \n",
            "332                   Lumpectomy       26-Nov-18          05-Dec-18   \n",
            "333  Modified Radical Mastectomy       04-Feb-19          10-Aug-19   \n",
            "\n",
            "    Patient_Status  \n",
            "0            Alive  \n",
            "1             Dead  \n",
            "2            Alive  \n",
            "3            Alive  \n",
            "4            Alive  \n",
            "..             ...  \n",
            "329          Alive  \n",
            "330          Alive  \n",
            "331           Dead  \n",
            "332          Alive  \n",
            "333           Dead  \n",
            "\n",
            "[334 rows x 15 columns]\n"
          ]
        }
      ],
      "source": [
        "import pandas as pd\n",
        "d=pd.read_csv('/content/breast_cancer_survival.csv')\n",
        "print(d)\n"
      ]
    },
    {
      "cell_type": "code",
      "source": [
        "d['Gender'] = d['Gender'].map({'FEMALE': 0, 'MALE': 1})\n",
        "d['Tumour_Stage'] = d['Tumour_Stage'].map({'I': 1, 'II': 2, 'III': 3})\n",
        "d['Histology'] = d['Histology'].factorize()[0]\n",
        "d['ER status'] = d['ER status'].map({'Positive': 1, 'Negative': 0})\n",
        "d['PR status'] = d['PR status'].map({'Positive': 1, 'Negative': 0})\n",
        "d['HER2 status'] = d['HER2 status'].map({'Positive': 1, 'Negative': 0})\n",
        "d['Surgery_type'] = d['Surgery_type'].factorize()[0]\n",
        "d['Patient_Status'] = d['Patient_Status'].map({'Alive': 1, 'Dead': 0})\n",
        "d['Date_of_Surgery']=d['Date_of_Surgery'].map({'20-May-18':0,'26-Apr-18':1,'24-Aug-18':2,'16-Nov-18':3,'12-Dec-18':4,'15-Jan-19':5,'25-Jul-18':6,'26-Mar-19':7,'26-Nov-18':8,'04-Feb-19':9})\n",
        "d['Date_of_Last_Visit']=d['Date_of_Last_Visit'].map({'26-Aug-18':0,'25-Jan-19':1,'08-Apr-20':2,'28-Jul-20':3,'05-Jan-19':4,'27-Mar-20':5,'23-Apr-19':6,'11-Oct-19':7,'05-Dec-18':8,'10-Aug-19':9})\n",
        "print(d)"
      ],
      "metadata": {
        "colab": {
          "base_uri": "https://localhost:8080/"
        },
        "id": "UrzqgHU8yVrY",
        "outputId": "3a48e116-4911-42a1-ada8-a69f4585593c"
      },
      "execution_count": 2,
      "outputs": [
        {
          "output_type": "stream",
          "name": "stdout",
          "text": [
            "     Age  Gender  Protein1  Protein2  Protein3  Protein4  Tumour_Stage  \\\n",
            "0     42       0  0.952560   2.15000  0.007972 -0.048340             2   \n",
            "1     54       0  0.000000   1.38020 -0.498030 -0.507320             2   \n",
            "2     63       0 -0.523030   1.76400 -0.370190  0.010815             2   \n",
            "3     78       0 -0.876180   0.12943 -0.370380  0.132190             1   \n",
            "4     42       0  0.226110   1.74910 -0.543970 -0.390210             2   \n",
            "..   ...     ...       ...       ...       ...       ...           ...   \n",
            "329   59       0  0.024598   1.40050  0.024751  0.280320             2   \n",
            "330   41       0  0.100120  -0.46547  0.472370 -0.523870             1   \n",
            "331   54       0  0.753820   1.64250 -0.332850  0.857860             2   \n",
            "332   74       0  0.972510   1.42680 -0.366570 -0.107820             2   \n",
            "333   66       0  0.286380   1.39980  0.318830  0.836050             2   \n",
            "\n",
            "     Histology  ER status  PR status  HER2 status  Surgery_type  \\\n",
            "0            0          1          1            0             0   \n",
            "1            0          1          1            0             0   \n",
            "2            0          1          1            0             1   \n",
            "3            0          1          1            0             0   \n",
            "4            0          1          1            1             1   \n",
            "..         ...        ...        ...          ...           ...   \n",
            "329          0          1          1            1             1   \n",
            "330          0          1          1            1             2   \n",
            "331          0          1          1            0             3   \n",
            "332          1          1          1            0             1   \n",
            "333          0          1          1            0             2   \n",
            "\n",
            "     Date_of_Surgery  Date_of_Last_Visit  Patient_Status  \n",
            "0                0.0                 0.0             1.0  \n",
            "1                1.0                 1.0             0.0  \n",
            "2                2.0                 2.0             1.0  \n",
            "3                3.0                 3.0             1.0  \n",
            "4                4.0                 4.0             1.0  \n",
            "..               ...                 ...             ...  \n",
            "329              5.0                 5.0             1.0  \n",
            "330              6.0                 6.0             1.0  \n",
            "331              7.0                 7.0             0.0  \n",
            "332              8.0                 8.0             1.0  \n",
            "333              9.0                 9.0             0.0  \n",
            "\n",
            "[334 rows x 15 columns]\n"
          ]
        }
      ]
    },
    {
      "cell_type": "code",
      "source": [
        "y=d['Patient_Status']\n",
        "x=d.drop('Patient_Status',axis=1)\n",
        "print(y)"
      ],
      "metadata": {
        "colab": {
          "base_uri": "https://localhost:8080/"
        },
        "id": "J-vyTbFwysvR",
        "outputId": "21e2243a-abac-4989-c14f-3fbc2e0a7a02"
      },
      "execution_count": 5,
      "outputs": [
        {
          "output_type": "stream",
          "name": "stdout",
          "text": [
            "0      1.0\n",
            "1      0.0\n",
            "2      1.0\n",
            "3      1.0\n",
            "4      1.0\n",
            "      ... \n",
            "329    1.0\n",
            "330    1.0\n",
            "331    0.0\n",
            "332    1.0\n",
            "333    0.0\n",
            "Name: Patient_Status, Length: 334, dtype: float64\n"
          ]
        }
      ]
    },
    {
      "cell_type": "code",
      "source": [
        "print(x)"
      ],
      "metadata": {
        "colab": {
          "base_uri": "https://localhost:8080/"
        },
        "id": "1jyDn-oOyzYJ",
        "outputId": "bcc4df67-7469-4996-bf0a-6ab7fe5852b2"
      },
      "execution_count": 6,
      "outputs": [
        {
          "output_type": "stream",
          "name": "stdout",
          "text": [
            "     Age  Gender  Protein1  Protein2  Protein3  Protein4  Tumour_Stage  \\\n",
            "0     42       0  0.952560   2.15000  0.007972 -0.048340             2   \n",
            "1     54       0  0.000000   1.38020 -0.498030 -0.507320             2   \n",
            "2     63       0 -0.523030   1.76400 -0.370190  0.010815             2   \n",
            "3     78       0 -0.876180   0.12943 -0.370380  0.132190             1   \n",
            "4     42       0  0.226110   1.74910 -0.543970 -0.390210             2   \n",
            "..   ...     ...       ...       ...       ...       ...           ...   \n",
            "329   59       0  0.024598   1.40050  0.024751  0.280320             2   \n",
            "330   41       0  0.100120  -0.46547  0.472370 -0.523870             1   \n",
            "331   54       0  0.753820   1.64250 -0.332850  0.857860             2   \n",
            "332   74       0  0.972510   1.42680 -0.366570 -0.107820             2   \n",
            "333   66       0  0.286380   1.39980  0.318830  0.836050             2   \n",
            "\n",
            "     Histology  ER status  PR status  HER2 status  Surgery_type  \\\n",
            "0            0          1          1            0             0   \n",
            "1            0          1          1            0             0   \n",
            "2            0          1          1            0             1   \n",
            "3            0          1          1            0             0   \n",
            "4            0          1          1            1             1   \n",
            "..         ...        ...        ...          ...           ...   \n",
            "329          0          1          1            1             1   \n",
            "330          0          1          1            1             2   \n",
            "331          0          1          1            0             3   \n",
            "332          1          1          1            0             1   \n",
            "333          0          1          1            0             2   \n",
            "\n",
            "     Date_of_Surgery  Date_of_Last_Visit  \n",
            "0                0.0                 0.0  \n",
            "1                1.0                 1.0  \n",
            "2                2.0                 2.0  \n",
            "3                3.0                 3.0  \n",
            "4                4.0                 4.0  \n",
            "..               ...                 ...  \n",
            "329              5.0                 5.0  \n",
            "330              6.0                 6.0  \n",
            "331              7.0                 7.0  \n",
            "332              8.0                 8.0  \n",
            "333              9.0                 9.0  \n",
            "\n",
            "[334 rows x 14 columns]\n"
          ]
        }
      ]
    },
    {
      "cell_type": "code",
      "source": [
        "x.fillna(x.mean(),inplace=True)"
      ],
      "metadata": {
        "id": "pet20Vo4yegK"
      },
      "execution_count": 7,
      "outputs": []
    },
    {
      "cell_type": "code",
      "source": [
        "x.isna().sum()"
      ],
      "metadata": {
        "colab": {
          "base_uri": "https://localhost:8080/",
          "height": 523
        },
        "id": "3Glv_D_Byo8R",
        "outputId": "afbc08c3-51eb-423d-8f79-8c1a99379ad6"
      },
      "execution_count": 8,
      "outputs": [
        {
          "output_type": "execute_result",
          "data": {
            "text/plain": [
              "Age                   0\n",
              "Gender                0\n",
              "Protein1              0\n",
              "Protein2              0\n",
              "Protein3              0\n",
              "Protein4              0\n",
              "Tumour_Stage          0\n",
              "Histology             0\n",
              "ER status             0\n",
              "PR status             0\n",
              "HER2 status           0\n",
              "Surgery_type          0\n",
              "Date_of_Surgery       0\n",
              "Date_of_Last_Visit    0\n",
              "dtype: int64"
            ],
            "text/html": [
              "<div>\n",
              "<style scoped>\n",
              "    .dataframe tbody tr th:only-of-type {\n",
              "        vertical-align: middle;\n",
              "    }\n",
              "\n",
              "    .dataframe tbody tr th {\n",
              "        vertical-align: top;\n",
              "    }\n",
              "\n",
              "    .dataframe thead th {\n",
              "        text-align: right;\n",
              "    }\n",
              "</style>\n",
              "<table border=\"1\" class=\"dataframe\">\n",
              "  <thead>\n",
              "    <tr style=\"text-align: right;\">\n",
              "      <th></th>\n",
              "      <th>0</th>\n",
              "    </tr>\n",
              "  </thead>\n",
              "  <tbody>\n",
              "    <tr>\n",
              "      <th>Age</th>\n",
              "      <td>0</td>\n",
              "    </tr>\n",
              "    <tr>\n",
              "      <th>Gender</th>\n",
              "      <td>0</td>\n",
              "    </tr>\n",
              "    <tr>\n",
              "      <th>Protein1</th>\n",
              "      <td>0</td>\n",
              "    </tr>\n",
              "    <tr>\n",
              "      <th>Protein2</th>\n",
              "      <td>0</td>\n",
              "    </tr>\n",
              "    <tr>\n",
              "      <th>Protein3</th>\n",
              "      <td>0</td>\n",
              "    </tr>\n",
              "    <tr>\n",
              "      <th>Protein4</th>\n",
              "      <td>0</td>\n",
              "    </tr>\n",
              "    <tr>\n",
              "      <th>Tumour_Stage</th>\n",
              "      <td>0</td>\n",
              "    </tr>\n",
              "    <tr>\n",
              "      <th>Histology</th>\n",
              "      <td>0</td>\n",
              "    </tr>\n",
              "    <tr>\n",
              "      <th>ER status</th>\n",
              "      <td>0</td>\n",
              "    </tr>\n",
              "    <tr>\n",
              "      <th>PR status</th>\n",
              "      <td>0</td>\n",
              "    </tr>\n",
              "    <tr>\n",
              "      <th>HER2 status</th>\n",
              "      <td>0</td>\n",
              "    </tr>\n",
              "    <tr>\n",
              "      <th>Surgery_type</th>\n",
              "      <td>0</td>\n",
              "    </tr>\n",
              "    <tr>\n",
              "      <th>Date_of_Surgery</th>\n",
              "      <td>0</td>\n",
              "    </tr>\n",
              "    <tr>\n",
              "      <th>Date_of_Last_Visit</th>\n",
              "      <td>0</td>\n",
              "    </tr>\n",
              "  </tbody>\n",
              "</table>\n",
              "</div><br><label><b>dtype:</b> int64</label>"
            ]
          },
          "metadata": {},
          "execution_count": 8
        }
      ]
    },
    {
      "cell_type": "code",
      "source": [
        "y.isna().sum()"
      ],
      "metadata": {
        "colab": {
          "base_uri": "https://localhost:8080/"
        },
        "id": "R1lhH5Wyy3sW",
        "outputId": "0fd12646-475c-499f-9825-e42c0b0880c9"
      },
      "execution_count": 9,
      "outputs": [
        {
          "output_type": "execute_result",
          "data": {
            "text/plain": [
              "13"
            ]
          },
          "metadata": {},
          "execution_count": 9
        }
      ]
    },
    {
      "cell_type": "code",
      "source": [
        "y.fillna(y.mean(),inplace=True)"
      ],
      "metadata": {
        "id": "b_53ecSIy6sF"
      },
      "execution_count": 10,
      "outputs": []
    },
    {
      "cell_type": "code",
      "source": [
        "y=y.astype(int)"
      ],
      "metadata": {
        "id": "QQrBnRGcy9XU"
      },
      "execution_count": 11,
      "outputs": []
    },
    {
      "cell_type": "code",
      "source": [
        "from sklearn.model_selection import train_test_split\n",
        "x_train,x_test,y_train,y_test=train_test_split(x,y,test_size=0.2,random_state=42)"
      ],
      "metadata": {
        "id": "m7Fy-kSEzA6m"
      },
      "execution_count": 12,
      "outputs": []
    },
    {
      "cell_type": "code",
      "source": [
        "from sklearn.model_selection import train_test_split\n",
        "from sklearn.ensemble import RandomForestClassifier\n",
        "from sklearn.metrics import accuracy_score\n",
        "x_train, x_test, y_train, y_test = train_test_split(x, y, test_size=0.2, random_state=42)\n",
        "rf_classifier = RandomForestClassifier(n_estimators=100, random_state=42)\n",
        "rf_classifier.fit(x_train, y_train)\n",
        "y_pred = rf_classifier.predict(x_test)\n",
        "accuracy = accuracy_score(y_test, y_pred)\n",
        "print(f\"Accuracy: {accuracy}\")"
      ],
      "metadata": {
        "colab": {
          "base_uri": "https://localhost:8080/"
        },
        "id": "YXYZFzyLzKrj",
        "outputId": "41bf1c28-3d97-4e89-a0e7-33a158a7589e"
      },
      "execution_count": 13,
      "outputs": [
        {
          "output_type": "stream",
          "name": "stdout",
          "text": [
            "Accuracy: 0.7761194029850746\n"
          ]
        }
      ]
    },
    {
      "cell_type": "code",
      "source": [
        "from sklearn.model_selection import train_test_split\n",
        "from sklearn.ensemble import BaggingClassifier\n",
        "from sklearn.tree import DecisionTreeClassifier\n",
        "from sklearn.metrics import accuracy_score\n",
        "x_train, x_test, y_train, y_test = train_test_split(x, y, test_size=0.2, random_state=42)\n",
        "bagging_classifier = BaggingClassifier(\n",
        "    n_estimators=100,\n",
        "    max_samples=0.8,\n",
        "    max_features=0.8,\n",
        "    random_state=42\n",
        ")\n",
        "bagging_classifier.base_estimator = DecisionTreeClassifier()\n",
        "bagging_classifier.fit(x_train, y_train)\n",
        "y_pred = bagging_classifier.predict(x_test)\n",
        "accuracy = accuracy_score(y_test, y_pred)\n",
        "print(f\"Accuracy: {accuracy}\")"
      ],
      "metadata": {
        "colab": {
          "base_uri": "https://localhost:8080/"
        },
        "id": "dl8zdUguzR3k",
        "outputId": "9475b0f3-e8bf-4465-d1a2-46fc59e2d17b"
      },
      "execution_count": 15,
      "outputs": [
        {
          "output_type": "stream",
          "name": "stdout",
          "text": [
            "Accuracy: 0.7611940298507462\n"
          ]
        }
      ]
    },
    {
      "cell_type": "code",
      "source": [
        "!pip install matplotlib seaborn pandas scikit-learn\n",
        "import matplotlib.pyplot as plt\n",
        "import seaborn as sns\n",
        "import pandas as pd\n",
        "from sklearn.model_selection import train_test_split\n",
        "from sklearn.ensemble import RandomForestClassifier\n",
        "x_train, x_test, y_train, y_test = train_test_split(x, y, test_size=0.2, random_state=42)\n",
        "rf_classifier = RandomForestClassifier(n_estimators=100, random_state=42)\n",
        "rf_classifier.fit(x_train, y_train)\n",
        "feature_importances = rf_classifier.feature_importances_\n",
        "feature_importance_df = pd.DataFrame({'Feature': x.columns, 'Importance': feature_importances})\n",
        "feature_importance_df = feature_importance_df.sort_values(by='Importance', ascending=False)\n",
        "plt.figure(figsize=(10, 6))\n",
        "sns.barplot(x='Importance', y='Feature', data=feature_importance_df)\n",
        "plt.title('Feature Importances in Random Forest')\n",
        "plt.xlabel('Importance')\n",
        "plt.ylabel('Feature')\n",
        "plt.show()"
      ],
      "metadata": {
        "colab": {
          "base_uri": "https://localhost:8080/",
          "height": 894
        },
        "id": "s_fUCIk2zcL4",
        "outputId": "33b57cc3-c646-4258-bca7-f20aea98b5be"
      },
      "execution_count": 16,
      "outputs": [
        {
          "output_type": "stream",
          "name": "stdout",
          "text": [
            "Requirement already satisfied: matplotlib in /usr/local/lib/python3.10/dist-packages (3.8.0)\n",
            "Requirement already satisfied: seaborn in /usr/local/lib/python3.10/dist-packages (0.13.2)\n",
            "Requirement already satisfied: pandas in /usr/local/lib/python3.10/dist-packages (2.2.2)\n",
            "Requirement already satisfied: scikit-learn in /usr/local/lib/python3.10/dist-packages (1.5.2)\n",
            "Requirement already satisfied: contourpy>=1.0.1 in /usr/local/lib/python3.10/dist-packages (from matplotlib) (1.3.0)\n",
            "Requirement already satisfied: cycler>=0.10 in /usr/local/lib/python3.10/dist-packages (from matplotlib) (0.12.1)\n",
            "Requirement already satisfied: fonttools>=4.22.0 in /usr/local/lib/python3.10/dist-packages (from matplotlib) (4.54.1)\n",
            "Requirement already satisfied: kiwisolver>=1.0.1 in /usr/local/lib/python3.10/dist-packages (from matplotlib) (1.4.7)\n",
            "Requirement already satisfied: numpy<2,>=1.21 in /usr/local/lib/python3.10/dist-packages (from matplotlib) (1.26.4)\n",
            "Requirement already satisfied: packaging>=20.0 in /usr/local/lib/python3.10/dist-packages (from matplotlib) (24.2)\n",
            "Requirement already satisfied: pillow>=6.2.0 in /usr/local/lib/python3.10/dist-packages (from matplotlib) (11.0.0)\n",
            "Requirement already satisfied: pyparsing>=2.3.1 in /usr/local/lib/python3.10/dist-packages (from matplotlib) (3.2.0)\n",
            "Requirement already satisfied: python-dateutil>=2.7 in /usr/local/lib/python3.10/dist-packages (from matplotlib) (2.8.2)\n",
            "Requirement already satisfied: pytz>=2020.1 in /usr/local/lib/python3.10/dist-packages (from pandas) (2024.2)\n",
            "Requirement already satisfied: tzdata>=2022.7 in /usr/local/lib/python3.10/dist-packages (from pandas) (2024.2)\n",
            "Requirement already satisfied: scipy>=1.6.0 in /usr/local/lib/python3.10/dist-packages (from scikit-learn) (1.13.1)\n",
            "Requirement already satisfied: joblib>=1.2.0 in /usr/local/lib/python3.10/dist-packages (from scikit-learn) (1.4.2)\n",
            "Requirement already satisfied: threadpoolctl>=3.1.0 in /usr/local/lib/python3.10/dist-packages (from scikit-learn) (3.5.0)\n",
            "Requirement already satisfied: six>=1.5 in /usr/local/lib/python3.10/dist-packages (from python-dateutil>=2.7->matplotlib) (1.16.0)\n"
          ]
        },
        {
          "output_type": "display_data",
          "data": {
            "text/plain": [
              "<Figure size 1000x600 with 1 Axes>"
            ],
            "image/png": "[encoded data removed]"
          },
          "metadata": {}
        }
      ]
    },
    {
      "cell_type": "code",
      "source": [
        "import numpy as np\n",
        "import matplotlib.pyplot as plt\n",
        "num_trees = 10\n",
        "num_classes = 3\n",
        "tree_predictions = np.random.randint(0, num_classes, size=(num_trees, 100))\n",
        "majority_vote = np.apply_along_axis(lambda x: np.argmax(np.bincount(x)), 0, tree_predictions)\n",
        "\n",
        "average_prediction = np.mean(tree_predictions, axis=0)\n",
        "\n",
        "plt.figure(figsize=(10, 6))\n",
        "plt.subplot(2, 1, 1)\n",
        "plt.hist(majority_vote, bins=np.arange(num_classes + 1) - 0.5, rwidth=0.8)\n",
        "plt.title('Majority Vote Distribution (Classification)')\n",
        "plt.xlabel('Predicted Class')\n",
        "plt.ylabel('Frequency')\n",
        "\n",
        "plt.subplot(2, 1, 2)\n",
        "plt.hist(average_prediction, bins=20)\n",
        "plt.title('Average Prediction Distribution (Regression)')\n",
        "plt.xlabel('Predicted Value')\n",
        "plt.ylabel('Frequency')\n",
        "\n",
        "plt.tight_layout()\n",
        "plt.show()"
      ],
      "metadata": {
        "colab": {
          "base_uri": "https://localhost:8080/",
          "height": 607
        },
        "id": "wOITGBRTz_kR",
        "outputId": "64e7343d-e439-49a2-b912-4c3fc9d5f5b8"
      },
      "execution_count": 17,
      "outputs": [
        {
          "output_type": "display_data",
          "data": {
            "text/plain": [
              "<Figure size 1000x600 with 2 Axes>"
            ],
            "image/png": "[encoded data removed]"
          },
          "metadata": {}
        }
      ]
    },
    {
      "cell_type": "code",
      "source": [],
      "metadata": {
        "id": "Hk-bYrNj0q63"
      },
      "execution_count": null,
      "outputs": []
    }
  ]
}